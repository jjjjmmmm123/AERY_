{
 "cells": [
  {
   "cell_type": "code",
   "execution_count": 5,
   "id": "10ddaa59",
   "metadata": {},
   "outputs": [],
   "source": [
    "import pandas as pd\n",
    "import numpy as np\n",
    "import pickle"
   ]
  },
  {
   "cell_type": "code",
   "execution_count": 6,
   "id": "fc8a7135",
   "metadata": {},
   "outputs": [],
   "source": [
    "dataset = pd.read_csv(\"out.csv\")"
   ]
  },
  {
   "cell_type": "code",
   "execution_count": 7,
   "id": "d0a6e07a",
   "metadata": {},
   "outputs": [
    {
     "data": {
      "text/plain": "     Realistic  Investigate  Artistic  Social  Enterprising  Conventional  \\\n0            1            0         0       1             0             1   \n1            1            1         0       0             0             1   \n2            0            1         1       0             0             1   \n3            0            1         0       0             1             1   \n4            0            0         1       1             0             1   \n..         ...          ...       ...     ...           ...           ...   \n495          1            0         0       1             0             1   \n496          0            0         1       1             1             0   \n497          1            0         0       1             0             1   \n498          1            0         0       1             0             1   \n499          1            1         0       0             1             0   \n\n     Naturalist  Spatial  Linguistic  Intrapersonal  Bodily-Kinesthetic  \\\n0             1        0           1              1                   0   \n1             0        1           0              1                   0   \n2             0        1           0              1                   0   \n3             0        1           0              1                   0   \n4             1        1           0              0                   0   \n..          ...      ...         ...            ...                 ...   \n495           1        0           1              1                   0   \n496           0        0           1              1                   0   \n497           0        1           1              0                   0   \n498           1        0           1              1                   0   \n499           0        1           1              0                   0   \n\n     Musical  Logical-mathematical  Interpersonal  Math  English  Science  \\\n0          0                     0              0    89       87       88   \n1          0                     1              0    90       89       91   \n2          1                     0              0    92       98       89   \n3          0                     1              0    92       90       91   \n4          1                     0              0    91       93       93   \n..       ...                   ...            ...   ...      ...      ...   \n495        0                     0              0    89       92       82   \n496        0                     1              0    94       98       91   \n497        0                     0              1    94       89       89   \n498        0                     0              0    94       89       89   \n499        0                     1              1    92       90       89   \n\n     Social Science  Class  \n0                87      4  \n1                88      1  \n2                96      2  \n3                89      1  \n4                87      2  \n..              ...    ...  \n495              90      4  \n496              95      2  \n497              89      4  \n498              89      4  \n499              92      3  \n\n[500 rows x 19 columns]",
      "text/html": "<div>\n<style scoped>\n    .dataframe tbody tr th:only-of-type {\n        vertical-align: middle;\n    }\n\n    .dataframe tbody tr th {\n        vertical-align: top;\n    }\n\n    .dataframe thead th {\n        text-align: right;\n    }\n</style>\n<table border=\"1\" class=\"dataframe\">\n  <thead>\n    <tr style=\"text-align: right;\">\n      <th></th>\n      <th>Realistic</th>\n      <th>Investigate</th>\n      <th>Artistic</th>\n      <th>Social</th>\n      <th>Enterprising</th>\n      <th>Conventional</th>\n      <th>Naturalist</th>\n      <th>Spatial</th>\n      <th>Linguistic</th>\n      <th>Intrapersonal</th>\n      <th>Bodily-Kinesthetic</th>\n      <th>Musical</th>\n      <th>Logical-mathematical</th>\n      <th>Interpersonal</th>\n      <th>Math</th>\n      <th>English</th>\n      <th>Science</th>\n      <th>Social Science</th>\n      <th>Class</th>\n    </tr>\n  </thead>\n  <tbody>\n    <tr>\n      <th>0</th>\n      <td>1</td>\n      <td>0</td>\n      <td>0</td>\n      <td>1</td>\n      <td>0</td>\n      <td>1</td>\n      <td>1</td>\n      <td>0</td>\n      <td>1</td>\n      <td>1</td>\n      <td>0</td>\n      <td>0</td>\n      <td>0</td>\n      <td>0</td>\n      <td>89</td>\n      <td>87</td>\n      <td>88</td>\n      <td>87</td>\n      <td>4</td>\n    </tr>\n    <tr>\n      <th>1</th>\n      <td>1</td>\n      <td>1</td>\n      <td>0</td>\n      <td>0</td>\n      <td>0</td>\n      <td>1</td>\n      <td>0</td>\n      <td>1</td>\n      <td>0</td>\n      <td>1</td>\n      <td>0</td>\n      <td>0</td>\n      <td>1</td>\n      <td>0</td>\n      <td>90</td>\n      <td>89</td>\n      <td>91</td>\n      <td>88</td>\n      <td>1</td>\n    </tr>\n    <tr>\n      <th>2</th>\n      <td>0</td>\n      <td>1</td>\n      <td>1</td>\n      <td>0</td>\n      <td>0</td>\n      <td>1</td>\n      <td>0</td>\n      <td>1</td>\n      <td>0</td>\n      <td>1</td>\n      <td>0</td>\n      <td>1</td>\n      <td>0</td>\n      <td>0</td>\n      <td>92</td>\n      <td>98</td>\n      <td>89</td>\n      <td>96</td>\n      <td>2</td>\n    </tr>\n    <tr>\n      <th>3</th>\n      <td>0</td>\n      <td>1</td>\n      <td>0</td>\n      <td>0</td>\n      <td>1</td>\n      <td>1</td>\n      <td>0</td>\n      <td>1</td>\n      <td>0</td>\n      <td>1</td>\n      <td>0</td>\n      <td>0</td>\n      <td>1</td>\n      <td>0</td>\n      <td>92</td>\n      <td>90</td>\n      <td>91</td>\n      <td>89</td>\n      <td>1</td>\n    </tr>\n    <tr>\n      <th>4</th>\n      <td>0</td>\n      <td>0</td>\n      <td>1</td>\n      <td>1</td>\n      <td>0</td>\n      <td>1</td>\n      <td>1</td>\n      <td>1</td>\n      <td>0</td>\n      <td>0</td>\n      <td>0</td>\n      <td>1</td>\n      <td>0</td>\n      <td>0</td>\n      <td>91</td>\n      <td>93</td>\n      <td>93</td>\n      <td>87</td>\n      <td>2</td>\n    </tr>\n    <tr>\n      <th>...</th>\n      <td>...</td>\n      <td>...</td>\n      <td>...</td>\n      <td>...</td>\n      <td>...</td>\n      <td>...</td>\n      <td>...</td>\n      <td>...</td>\n      <td>...</td>\n      <td>...</td>\n      <td>...</td>\n      <td>...</td>\n      <td>...</td>\n      <td>...</td>\n      <td>...</td>\n      <td>...</td>\n      <td>...</td>\n      <td>...</td>\n      <td>...</td>\n    </tr>\n    <tr>\n      <th>495</th>\n      <td>1</td>\n      <td>0</td>\n      <td>0</td>\n      <td>1</td>\n      <td>0</td>\n      <td>1</td>\n      <td>1</td>\n      <td>0</td>\n      <td>1</td>\n      <td>1</td>\n      <td>0</td>\n      <td>0</td>\n      <td>0</td>\n      <td>0</td>\n      <td>89</td>\n      <td>92</td>\n      <td>82</td>\n      <td>90</td>\n      <td>4</td>\n    </tr>\n    <tr>\n      <th>496</th>\n      <td>0</td>\n      <td>0</td>\n      <td>1</td>\n      <td>1</td>\n      <td>1</td>\n      <td>0</td>\n      <td>0</td>\n      <td>0</td>\n      <td>1</td>\n      <td>1</td>\n      <td>0</td>\n      <td>0</td>\n      <td>1</td>\n      <td>0</td>\n      <td>94</td>\n      <td>98</td>\n      <td>91</td>\n      <td>95</td>\n      <td>2</td>\n    </tr>\n    <tr>\n      <th>497</th>\n      <td>1</td>\n      <td>0</td>\n      <td>0</td>\n      <td>1</td>\n      <td>0</td>\n      <td>1</td>\n      <td>0</td>\n      <td>1</td>\n      <td>1</td>\n      <td>0</td>\n      <td>0</td>\n      <td>0</td>\n      <td>0</td>\n      <td>1</td>\n      <td>94</td>\n      <td>89</td>\n      <td>89</td>\n      <td>89</td>\n      <td>4</td>\n    </tr>\n    <tr>\n      <th>498</th>\n      <td>1</td>\n      <td>0</td>\n      <td>0</td>\n      <td>1</td>\n      <td>0</td>\n      <td>1</td>\n      <td>1</td>\n      <td>0</td>\n      <td>1</td>\n      <td>1</td>\n      <td>0</td>\n      <td>0</td>\n      <td>0</td>\n      <td>0</td>\n      <td>94</td>\n      <td>89</td>\n      <td>89</td>\n      <td>89</td>\n      <td>4</td>\n    </tr>\n    <tr>\n      <th>499</th>\n      <td>1</td>\n      <td>1</td>\n      <td>0</td>\n      <td>0</td>\n      <td>1</td>\n      <td>0</td>\n      <td>0</td>\n      <td>1</td>\n      <td>1</td>\n      <td>0</td>\n      <td>0</td>\n      <td>0</td>\n      <td>1</td>\n      <td>1</td>\n      <td>92</td>\n      <td>90</td>\n      <td>89</td>\n      <td>92</td>\n      <td>3</td>\n    </tr>\n  </tbody>\n</table>\n<p>500 rows × 19 columns</p>\n</div>"
     },
     "execution_count": 7,
     "metadata": {},
     "output_type": "execute_result"
    }
   ],
   "source": [
    "dataset"
   ]
  },
  {
   "cell_type": "code",
   "execution_count": 8,
   "id": "7e9f68af",
   "metadata": {},
   "outputs": [],
   "source": [
    "X = dataset.iloc[:, 0:18].values\n",
    "y = dataset.iloc[:, 18].values"
   ]
  },
  {
   "cell_type": "code",
   "execution_count": 9,
   "id": "40f93c5e",
   "metadata": {},
   "outputs": [
    {
     "data": {
      "text/plain": "(500, 18)"
     },
     "execution_count": 9,
     "metadata": {},
     "output_type": "execute_result"
    }
   ],
   "source": [
    "X.shape"
   ]
  },
  {
   "cell_type": "code",
   "execution_count": 10,
   "id": "bf81e531",
   "metadata": {},
   "outputs": [],
   "source": [
    "from sklearn.model_selection import train_test_split\n",
    "\n",
    "X_train, X_test, y_train, y_test = train_test_split(X, y, test_size=0.3, random_state=0)"
   ]
  },
  {
   "cell_type": "code",
   "execution_count": 11,
   "id": "0bbef2ec",
   "metadata": {},
   "outputs": [
    {
     "data": {
      "text/plain": "array([[-1.040833  , -1.01149463,  1.52752523, ..., -0.62897498,\n        -0.04818094, -0.14078673],\n       [ 0.96076892, -1.01149463, -0.65465367, ..., -0.05717954,\n        -0.44035141, -0.80666989],\n       [ 0.96076892,  0.98863599, -0.65465367, ...,  0.80051361,\n         0.34398952, -1.13961148],\n       ...,\n       [-1.040833  ,  0.98863599, -0.65465367, ..., -0.05717954,\n        -0.83252187, -0.80666989],\n       [ 0.96076892, -1.01149463, -0.65465367, ..., -0.05717954,\n         0.34398952,  0.19215486],\n       [ 0.96076892, -1.01149463, -0.65465367, ...,  1.65820677,\n         1.12833045,  1.85686277]])"
     },
     "execution_count": 11,
     "metadata": {},
     "output_type": "execute_result"
    }
   ],
   "source": [
    "from sklearn.preprocessing import StandardScaler\n",
    "\n",
    "sc = StandardScaler()\n",
    "X_train = sc.fit_transform(X_train)\n",
    "X_test = sc.transform(X_test)\n",
    "\n",
    "X_train\n",
    "\n",
    "\n",
    "\n"
   ]
  },
  {
   "cell_type": "code",
   "execution_count": 12,
   "id": "301a942e",
   "metadata": {},
   "outputs": [],
   "source": [
    "from sklearn.ensemble import RandomForestClassifier\n",
    "\n",
    "regressor = RandomForestClassifier(n_estimators=100, random_state=0)\n",
    "regressor.fit(X_train, y_train)\n",
    "y_pred = regressor.predict(X_test)"
   ]
  },
  {
   "cell_type": "code",
   "execution_count": 13,
   "id": "baf11149",
   "metadata": {},
   "outputs": [
    {
     "name": "stdout",
     "output_type": "stream",
     "text": [
      "[[37  0  1  2]\n",
      " [ 0 40  1  0]\n",
      " [ 0  1 36  0]\n",
      " [ 0  3  0 29]]\n",
      "              precision    recall  f1-score   support\n",
      "\n",
      "           1       1.00      0.93      0.96        40\n",
      "           2       0.91      0.98      0.94        41\n",
      "           3       0.95      0.97      0.96        37\n",
      "           4       0.94      0.91      0.92        32\n",
      "\n",
      "    accuracy                           0.95       150\n",
      "   macro avg       0.95      0.94      0.95       150\n",
      "weighted avg       0.95      0.95      0.95       150\n",
      "\n",
      "0.9466666666666667\n"
     ]
    }
   ],
   "source": [
    "from sklearn.metrics import classification_report, confusion_matrix, accuracy_score\n",
    "\n",
    "print(confusion_matrix(y_test,y_pred))\n",
    "print(classification_report(y_test,y_pred))\n",
    "print(accuracy_score(y_test, y_pred))"
   ]
  },
  {
   "cell_type": "code",
   "execution_count": 14,
   "id": "306fb697",
   "metadata": {
    "pycharm": {
     "name": "#%%\n"
    }
   },
   "outputs": [],
   "source": [
    "filename = 'random_forest_model.sav'\n",
    "pickle.dump(regressor, open(filename, 'wb'))\n"
   ]
  },
  {
   "cell_type": "code",
   "execution_count": 15,
   "id": "da86e71c",
   "metadata": {
    "pycharm": {
     "name": "#%%\n"
    }
   },
   "outputs": [],
   "source": [
    "pickle.dump(sc, open('scaler.pkl','wb'))"
   ]
  },
  {
   "cell_type": "code",
   "execution_count": null,
   "outputs": [],
   "source": [],
   "metadata": {
    "collapsed": false,
    "pycharm": {
     "name": "#%%\n"
    }
   }
  }
 ],
 "metadata": {
  "kernelspec": {
   "name": "pycharm-c748fc5a",
   "language": "python",
   "display_name": "PyCharm (AERY_FINAL)"
  },
  "language_info": {
   "codemirror_mode": {
    "name": "ipython",
    "version": 3
   },
   "file_extension": ".py",
   "mimetype": "text/x-python",
   "name": "python",
   "nbconvert_exporter": "python",
   "pygments_lexer": "ipython3",
   "version": "3.9.7"
  }
 },
 "nbformat": 4,
 "nbformat_minor": 5
}